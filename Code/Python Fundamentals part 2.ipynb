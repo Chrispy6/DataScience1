{
 "cells": [
  {
   "cell_type": "code",
   "execution_count": 3,
   "id": "1be7426b",
   "metadata": {
    "scrolled": true
   },
   "outputs": [],
   "source": [
    "data1 = {\n",
    "    \"Edward Teach\": [\"1716-1718\", \"Caribbean\", \"Blackbeard\"],\n",
    "    \"Anne Bonnie\": [\"1718-1720\", \"Caribbean\", \"none\"],\n",
    "    \"john Rackham\": [\"1718-1720\", \"Caribbean\", \"Calico Jack\"], \n",
    "    \"Chenug Po Tsai\": [\"1798-1810\", \"South China Sea\", \"The Kid\"],\n",
    "    \"Grace O'Malley\": [\"1564-1595\", \"British Isles\", \"Queen of Ireland\"],\n",
    "    \"Mary Read\": [\"1708-1721\", \"Caribbean\", \"Mark\"],\n",
    "    \"sayida al Hurry\": [\"1515-1545\", \"Mediterranean\", \"Hakimat Titwan\"],\n",
    "    \"zheng Yi Sao\": [\"1801-1810\", \"South China Sea\", \"Ching Shih\"],\n",
    "    \"Francis Drake\": [\"1563-1596\", \"Caribbean\", \"Sir Francis Drake\"],\n",
    "    \"Jean Lafitte\": [\"1810-1823\", \"Gulf of Mexico\", \"Terror of the Gulf\"],\n",
    "}"
   ]
  },
  {
   "cell_type": "code",
   "execution_count": 4,
   "id": "3813c78c",
   "metadata": {},
   "outputs": [],
   "source": [
    "data2 = {\n",
    "    \"Names\": [\"Edward Teach\",\"Anne Bonnie\",\"john Rackham\", \"Chenug Po Tsai\", \"Grace O'Malley\", \"Mary Read\", \"sayida al Hurry\", \"zheng Yi Sao\", \"Francis Drake\", \"Jean Lafitte\"],\n",
    "    \"Years Active\": [\"1716-1718\", \"1718-1720\", \"1718-1720\", \"1798-1810\", \"1564-1595\", \"1708-1721\", \"1515-1545\", \"1801-1810\", \"1563-1596\", \"1810-1823\"],\n",
    "    \"Sailed\": [\"Caribbean\", \"Caribbean\", \"Caribbean\", \"South China Sea\", \"British Isles\", \"Caribbean\", \"Mediterranean\", \"South China Sea\", \"Caribbean\", \"Gulf of Mexico\" ], \n",
    "    \"Alias\": [\"Blackbeard\", \"none\", \"Calico Jack\", \"The Kid\", \"Queen of Ireland\", \"Mark\", \"Hakimat Titwan\", \"Ching Shih\", \"Sir Francis Drake\", \"Terror of the Gulf\"],\n",
    "}"
   ]
  },
  {
   "cell_type": "code",
   "execution_count": 47,
   "id": "8e205c89",
   "metadata": {
    "scrolled": false
   },
   "outputs": [
    {
     "name": "stdout",
     "output_type": "stream",
     "text": [
      "[['1716', '1718'], ['1718', '1720'], ['1718', '1720'], ['1798', '1810'], ['1564', '1595'], ['1708', '1721'], ['1515', '1545'], ['1801', '1810'], ['1563', '1596'], ['1810', '1823']]\n",
      "1716\n"
     ]
    }
   ],
   "source": [
    "yearsList = []\n",
    "for i in range(10):\n",
    "    years = data2[\"Years Active\"][i].split(\"-\", 1)\n",
    "    yearsList.append(years)\n",
    "print(yearsList)\n",
    "print(yearsList[0][0])\n",
    "yearsListInt = []\n",
    "for i in range(10):\n",
    "    x = int(yearsList[i][])\n",
    "    \n"
   ]
  },
  {
   "cell_type": "code",
   "execution_count": 53,
   "id": "aa85daeb",
   "metadata": {},
   "outputs": [],
   "source": [
    "pirates = {\n",
    "    \"Names\":[\"Blackbeard\", \"Anne Bonny\", \"Calico Jack\", \"Cheung Po Tsai\", \"Grace O'Malley\", \"Mary Read\", \"Sayyida al Hurra\", \"Ching Shih\", \"Sir Francis Drake\", \"Jean Lafittte\"],\n",
    "    \"Sex\":[\"M\", \"F\", \"M\", \"M\", \"F\", \"F\", \"F\", \"F\", \"M\", \"M\"],\n",
    "    \"Age at Death\":[40, 24, 37, 39, 73, 36, 75, 69, 56, 46],\n",
    "    \"Height\":[6.4, 5.6, 5.6, 5.3, 5.0, 5.1, 0.0, 5.3, 5.5, 6.2],\n",
    "    \"Skull and Crossbones\":[False, True, True, False, False, True, False, False, False, False]\n",
    "}"
   ]
  },
  {
   "cell_type": "code",
   "execution_count": 54,
   "id": "0c26d5ac",
   "metadata": {},
   "outputs": [
    {
     "data": {
      "text/plain": [
       "{'Names': ['Edward Teach',\n",
       "  'Anne Bonnie',\n",
       "  'john Rackham',\n",
       "  'Chenug Po Tsai',\n",
       "  \"Grace O'Malley\",\n",
       "  'Mary Read',\n",
       "  'sayida al Hurry',\n",
       "  'zheng Yi Sao',\n",
       "  'Francis Drake',\n",
       "  'Jean Lafitte'],\n",
       " 'Sex': ['M', 'F', 'M', 'M', 'F', 'F', 'F', 'F', 'M', 'M'],\n",
       " 'Age at Death': [40, 24, 37, 39, 73, 36, 75, 69, 56, 46],\n",
       " 'Height': [6.4, 5.6, 5.6, 5.3, 5.0, 5.1, 0.0, 5.3, 5.5, 6.2],\n",
       " 'Skull and Crossbones': [False,\n",
       "  True,\n",
       "  True,\n",
       "  False,\n",
       "  False,\n",
       "  True,\n",
       "  False,\n",
       "  False,\n",
       "  False,\n",
       "  False],\n",
       " 'Years Active': ['1716-1718',\n",
       "  '1718-1720',\n",
       "  '1718-1720',\n",
       "  '1798-1810',\n",
       "  '1564-1595',\n",
       "  '1708-1721',\n",
       "  '1515-1545',\n",
       "  '1801-1810',\n",
       "  '1563-1596',\n",
       "  '1810-1823'],\n",
       " 'Sailed': ['Caribbean',\n",
       "  'Caribbean',\n",
       "  'Caribbean',\n",
       "  'South China Sea',\n",
       "  'British Isles',\n",
       "  'Caribbean',\n",
       "  'Mediterranean',\n",
       "  'South China Sea',\n",
       "  'Caribbean',\n",
       "  'Gulf of Mexico'],\n",
       " 'Alias': ['Blackbeard',\n",
       "  'none',\n",
       "  'Calico Jack',\n",
       "  'The Kid',\n",
       "  'Queen of Ireland',\n",
       "  'Mark',\n",
       "  'Hakimat Titwan',\n",
       "  'Ching Shih',\n",
       "  'Sir Francis Drake',\n",
       "  'Terror of the Gulf']}"
      ]
     },
     "execution_count": 54,
     "metadata": {},
     "output_type": "execute_result"
    }
   ],
   "source": [
    "def Merge(dict_1, dict_2):\n",
    "    result = dict_1 | dict_2\n",
    "    return result\n",
    "mergedData = Merge(pirates, data2)\n",
    "mergedData"
   ]
  },
  {
   "cell_type": "code",
   "execution_count": 10,
   "id": "af26502a",
   "metadata": {},
   "outputs": [
    {
     "name": "stdout",
     "output_type": "stream",
     "text": [
      "col1\n",
      "col2\n"
     ]
    }
   ],
   "source": []
  },
  {
   "cell_type": "code",
   "execution_count": null,
   "id": "eda786b1",
   "metadata": {},
   "outputs": [],
   "source": []
  }
 ],
 "metadata": {
  "kernelspec": {
   "display_name": "Python 3 (ipykernel)",
   "language": "python",
   "name": "python3"
  },
  "language_info": {
   "codemirror_mode": {
    "name": "ipython",
    "version": 3
   },
   "file_extension": ".py",
   "mimetype": "text/x-python",
   "name": "python",
   "nbconvert_exporter": "python",
   "pygments_lexer": "ipython3",
   "version": "3.11.4"
  }
 },
 "nbformat": 4,
 "nbformat_minor": 5
}
