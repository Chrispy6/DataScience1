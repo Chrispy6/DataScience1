{
 "cells": [
  {
   "cell_type": "code",
   "execution_count": 13,
   "id": "6792c71e",
   "metadata": {},
   "outputs": [],
   "source": [
    "import pandas as pd"
   ]
  },
  {
   "cell_type": "code",
   "execution_count": 14,
   "id": "49e19e72",
   "metadata": {
    "scrolled": true
   },
   "outputs": [],
   "source": [
    "data = pd.read_csv(\"pirates.csv\")"
   ]
  },
  {
   "cell_type": "code",
   "execution_count": 15,
   "id": "e0ec3a43",
   "metadata": {},
   "outputs": [
    {
     "data": {
      "text/html": [
       "<div>\n",
       "<style scoped>\n",
       "    .dataframe tbody tr th:only-of-type {\n",
       "        vertical-align: middle;\n",
       "    }\n",
       "\n",
       "    .dataframe tbody tr th {\n",
       "        vertical-align: top;\n",
       "    }\n",
       "\n",
       "    .dataframe thead th {\n",
       "        text-align: right;\n",
       "    }\n",
       "</style>\n",
       "<table border=\"1\" class=\"dataframe\">\n",
       "  <thead>\n",
       "    <tr style=\"text-align: right;\">\n",
       "      <th></th>\n",
       "      <th>id</th>\n",
       "      <th>sex</th>\n",
       "      <th>age</th>\n",
       "      <th>height</th>\n",
       "      <th>weight</th>\n",
       "      <th>headband</th>\n",
       "      <th>college</th>\n",
       "      <th>tattoos</th>\n",
       "      <th>tchests</th>\n",
       "      <th>parrots</th>\n",
       "      <th>favorite.pirate</th>\n",
       "      <th>sword.type</th>\n",
       "      <th>eyepatch</th>\n",
       "      <th>sword.time</th>\n",
       "      <th>beard.length</th>\n",
       "      <th>fav.pixar</th>\n",
       "      <th>grogg</th>\n",
       "    </tr>\n",
       "  </thead>\n",
       "  <tbody>\n",
       "    <tr>\n",
       "      <th>0</th>\n",
       "      <td>1</td>\n",
       "      <td>male</td>\n",
       "      <td>28.0</td>\n",
       "      <td>173.11</td>\n",
       "      <td>70.5</td>\n",
       "      <td>yes</td>\n",
       "      <td>JSSFP</td>\n",
       "      <td>9</td>\n",
       "      <td>0</td>\n",
       "      <td>0</td>\n",
       "      <td>Jack Sparrow</td>\n",
       "      <td>cutlass</td>\n",
       "      <td>1</td>\n",
       "      <td>0.58</td>\n",
       "      <td>16</td>\n",
       "      <td>Monsters, Inc.</td>\n",
       "      <td>11</td>\n",
       "    </tr>\n",
       "    <tr>\n",
       "      <th>1</th>\n",
       "      <td>2</td>\n",
       "      <td>male</td>\n",
       "      <td>31.0</td>\n",
       "      <td>209.25</td>\n",
       "      <td>105.6</td>\n",
       "      <td>yes</td>\n",
       "      <td>JSSFP</td>\n",
       "      <td>9</td>\n",
       "      <td>11</td>\n",
       "      <td>0</td>\n",
       "      <td>Jack Sparrow</td>\n",
       "      <td>cutlass</td>\n",
       "      <td>0</td>\n",
       "      <td>1.11</td>\n",
       "      <td>21</td>\n",
       "      <td>WALL-E</td>\n",
       "      <td>9</td>\n",
       "    </tr>\n",
       "    <tr>\n",
       "      <th>2</th>\n",
       "      <td>3</td>\n",
       "      <td>male</td>\n",
       "      <td>26.0</td>\n",
       "      <td>169.95</td>\n",
       "      <td>77.1</td>\n",
       "      <td>yes</td>\n",
       "      <td>CCCC</td>\n",
       "      <td>10</td>\n",
       "      <td>10</td>\n",
       "      <td>1</td>\n",
       "      <td>Jack Sparrow</td>\n",
       "      <td>cutlass</td>\n",
       "      <td>1</td>\n",
       "      <td>1.44</td>\n",
       "      <td>19</td>\n",
       "      <td>Inside Out</td>\n",
       "      <td>7</td>\n",
       "    </tr>\n",
       "    <tr>\n",
       "      <th>3</th>\n",
       "      <td>4</td>\n",
       "      <td>female</td>\n",
       "      <td>31.0</td>\n",
       "      <td>144.29</td>\n",
       "      <td>58.5</td>\n",
       "      <td>no</td>\n",
       "      <td>JSSFP</td>\n",
       "      <td>2</td>\n",
       "      <td>0</td>\n",
       "      <td>2</td>\n",
       "      <td>Jack Sparrow</td>\n",
       "      <td>scimitar</td>\n",
       "      <td>1</td>\n",
       "      <td>36.11</td>\n",
       "      <td>2</td>\n",
       "      <td>Inside Out</td>\n",
       "      <td>9</td>\n",
       "    </tr>\n",
       "    <tr>\n",
       "      <th>4</th>\n",
       "      <td>5</td>\n",
       "      <td>female</td>\n",
       "      <td>41.0</td>\n",
       "      <td>157.85</td>\n",
       "      <td>58.4</td>\n",
       "      <td>yes</td>\n",
       "      <td>JSSFP</td>\n",
       "      <td>9</td>\n",
       "      <td>6</td>\n",
       "      <td>4</td>\n",
       "      <td>Hook</td>\n",
       "      <td>cutlass</td>\n",
       "      <td>1</td>\n",
       "      <td>0.11</td>\n",
       "      <td>0</td>\n",
       "      <td>Inside Out</td>\n",
       "      <td>14</td>\n",
       "    </tr>\n",
       "  </tbody>\n",
       "</table>\n",
       "</div>"
      ],
      "text/plain": [
       "   id     sex   age  height  weight headband college  tattoos  tchests  \\\n",
       "0   1    male  28.0  173.11    70.5      yes   JSSFP        9        0   \n",
       "1   2    male  31.0  209.25   105.6      yes   JSSFP        9       11   \n",
       "2   3    male  26.0  169.95    77.1      yes    CCCC       10       10   \n",
       "3   4  female  31.0  144.29    58.5       no   JSSFP        2        0   \n",
       "4   5  female  41.0  157.85    58.4      yes   JSSFP        9        6   \n",
       "\n",
       "  parrots favorite.pirate sword.type  eyepatch  sword.time  beard.length  \\\n",
       "0       0    Jack Sparrow    cutlass         1        0.58            16   \n",
       "1       0    Jack Sparrow    cutlass         0        1.11            21   \n",
       "2       1    Jack Sparrow    cutlass         1        1.44            19   \n",
       "3       2    Jack Sparrow   scimitar         1       36.11             2   \n",
       "4       4            Hook    cutlass         1        0.11             0   \n",
       "\n",
       "        fav.pixar  grogg  \n",
       "0  Monsters, Inc.     11  \n",
       "1          WALL-E      9  \n",
       "2      Inside Out      7  \n",
       "3      Inside Out      9  \n",
       "4      Inside Out     14  "
      ]
     },
     "execution_count": 15,
     "metadata": {},
     "output_type": "execute_result"
    }
   ],
   "source": [
    "data.head()"
   ]
  },
  {
   "cell_type": "code",
   "execution_count": 16,
   "id": "93e8faa8",
   "metadata": {},
   "outputs": [
    {
     "name": "stdout",
     "output_type": "stream",
     "text": [
      "<class 'pandas.core.frame.DataFrame'>\n",
      "RangeIndex: 1000 entries, 0 to 999\n",
      "Data columns (total 17 columns):\n",
      " #   Column           Non-Null Count  Dtype  \n",
      "---  ------           --------------  -----  \n",
      " 0   id               1000 non-null   int64  \n",
      " 1   sex              1000 non-null   object \n",
      " 2   age              999 non-null    float64\n",
      " 3   height           1000 non-null   float64\n",
      " 4   weight           1000 non-null   float64\n",
      " 5   headband         999 non-null    object \n",
      " 6   college          1000 non-null   object \n",
      " 7   tattoos          1000 non-null   int64  \n",
      " 8   tchests          1000 non-null   int64  \n",
      " 9   parrots          1000 non-null   object \n",
      " 10  favorite.pirate  999 non-null    object \n",
      " 11  sword.type       1000 non-null   object \n",
      " 12  eyepatch         1000 non-null   int64  \n",
      " 13  sword.time       999 non-null    float64\n",
      " 14  beard.length     1000 non-null   int64  \n",
      " 15  fav.pixar        1000 non-null   object \n",
      " 16  grogg            1000 non-null   int64  \n",
      "dtypes: float64(4), int64(6), object(7)\n",
      "memory usage: 132.9+ KB\n"
     ]
    }
   ],
   "source": [
    "data.info()"
   ]
  },
  {
   "cell_type": "code",
   "execution_count": 17,
   "id": "d28de70b",
   "metadata": {},
   "outputs": [
    {
     "name": "stdout",
     "output_type": "stream",
     "text": [
      "The type of data found in the parrots column are objects\n"
     ]
    }
   ],
   "source": [
    "\n",
    "print(\"The type of data found in the parrots column are objects\")"
   ]
  },
  {
   "cell_type": "code",
   "execution_count": 18,
   "id": "dc3cba5c",
   "metadata": {},
   "outputs": [],
   "source": [
    "missing_data = data.isna()"
   ]
  },
  {
   "cell_type": "code",
   "execution_count": 19,
   "id": "53d03f5e",
   "metadata": {},
   "outputs": [
    {
     "name": "stdout",
     "output_type": "stream",
     "text": [
      "Row 33 has missing values in columns: age\n",
      "Row 136 has missing values in columns: sword.time\n",
      "Row 634 has missing values in columns: favorite.pirate\n",
      "Row 999 has missing values in columns: headband\n"
     ]
    }
   ],
   "source": [
    "for index, row in missing_data.iterrows():\n",
    "    missing_columns = row[row].index.tolist()\n",
    "    if missing_columns:\n",
    "        print(f\"Row {index} has missing values in columns: {', '.join(missing_columns)}\")"
   ]
  },
  {
   "cell_type": "code",
   "execution_count": 20,
   "id": "51fa8df5",
   "metadata": {},
   "outputs": [],
   "source": [
    "#for column in data.columns:\n",
    " #   for row in range(len([\"id\"])):\n",
    "  #      if pd.isna(data.loc[row, column]):\n",
    "   #         print(row)\n",
    "    #        print(column)\n",
    "            "
   ]
  },
  {
   "cell_type": "code",
   "execution_count": 23,
   "id": "54d893ca",
   "metadata": {},
   "outputs": [
    {
     "name": "stderr",
     "output_type": "stream",
     "text": [
      "C:\\Users\\hussa\\AppData\\Local\\Temp\\ipykernel_25520\\2662348795.py:1: FutureWarning: In a future version of pandas all arguments of DataFrame.fillna except for the argument 'value' will be keyword-only.\n",
      "  data = data.fillna(data[\"age\"].mean(), None, data[\"age\"])\n"
     ]
    },
    {
     "ename": "TypeError",
     "evalue": "unhashable type: 'Series'",
     "output_type": "error",
     "traceback": [
      "\u001b[1;31m---------------------------------------------------------------------------\u001b[0m",
      "\u001b[1;31mTypeError\u001b[0m                                 Traceback (most recent call last)",
      "Cell \u001b[1;32mIn[23], line 1\u001b[0m\n\u001b[1;32m----> 1\u001b[0m data \u001b[38;5;241m=\u001b[39m data\u001b[38;5;241m.\u001b[39mfillna(data[\u001b[38;5;124m\"\u001b[39m\u001b[38;5;124mage\u001b[39m\u001b[38;5;124m\"\u001b[39m]\u001b[38;5;241m.\u001b[39mmean(), \u001b[38;5;28;01mNone\u001b[39;00m, data[\u001b[38;5;124m\"\u001b[39m\u001b[38;5;124mage\u001b[39m\u001b[38;5;124m\"\u001b[39m])\n",
      "File \u001b[1;32m~\\anaconda3\\Lib\\site-packages\\pandas\\util\\_decorators.py:331\u001b[0m, in \u001b[0;36mdeprecate_nonkeyword_arguments.<locals>.decorate.<locals>.wrapper\u001b[1;34m(*args, **kwargs)\u001b[0m\n\u001b[0;32m    325\u001b[0m \u001b[38;5;28;01mif\u001b[39;00m \u001b[38;5;28mlen\u001b[39m(args) \u001b[38;5;241m>\u001b[39m num_allow_args:\n\u001b[0;32m    326\u001b[0m     warnings\u001b[38;5;241m.\u001b[39mwarn(\n\u001b[0;32m    327\u001b[0m         msg\u001b[38;5;241m.\u001b[39mformat(arguments\u001b[38;5;241m=\u001b[39m_format_argument_list(allow_args)),\n\u001b[0;32m    328\u001b[0m         \u001b[38;5;167;01mFutureWarning\u001b[39;00m,\n\u001b[0;32m    329\u001b[0m         stacklevel\u001b[38;5;241m=\u001b[39mfind_stack_level(),\n\u001b[0;32m    330\u001b[0m     )\n\u001b[1;32m--> 331\u001b[0m \u001b[38;5;28;01mreturn\u001b[39;00m func(\u001b[38;5;241m*\u001b[39margs, \u001b[38;5;241m*\u001b[39m\u001b[38;5;241m*\u001b[39mkwargs)\n",
      "File \u001b[1;32m~\\anaconda3\\Lib\\site-packages\\pandas\\core\\frame.py:5635\u001b[0m, in \u001b[0;36mDataFrame.fillna\u001b[1;34m(self, value, method, axis, inplace, limit, downcast)\u001b[0m\n\u001b[0;32m   5624\u001b[0m \u001b[38;5;129m@deprecate_nonkeyword_arguments\u001b[39m(version\u001b[38;5;241m=\u001b[39m\u001b[38;5;28;01mNone\u001b[39;00m, allowed_args\u001b[38;5;241m=\u001b[39m[\u001b[38;5;124m\"\u001b[39m\u001b[38;5;124mself\u001b[39m\u001b[38;5;124m\"\u001b[39m, \u001b[38;5;124m\"\u001b[39m\u001b[38;5;124mvalue\u001b[39m\u001b[38;5;124m\"\u001b[39m])\n\u001b[0;32m   5625\u001b[0m \u001b[38;5;129m@doc\u001b[39m(NDFrame\u001b[38;5;241m.\u001b[39mfillna, \u001b[38;5;241m*\u001b[39m\u001b[38;5;241m*\u001b[39m_shared_doc_kwargs)\n\u001b[0;32m   5626\u001b[0m \u001b[38;5;28;01mdef\u001b[39;00m \u001b[38;5;21mfillna\u001b[39m(  \u001b[38;5;66;03m# type: ignore[override]\u001b[39;00m\n\u001b[1;32m   (...)\u001b[0m\n\u001b[0;32m   5633\u001b[0m     downcast: \u001b[38;5;28mdict\u001b[39m \u001b[38;5;241m|\u001b[39m \u001b[38;5;28;01mNone\u001b[39;00m \u001b[38;5;241m=\u001b[39m \u001b[38;5;28;01mNone\u001b[39;00m,\n\u001b[0;32m   5634\u001b[0m ) \u001b[38;5;241m-\u001b[39m\u001b[38;5;241m>\u001b[39m DataFrame \u001b[38;5;241m|\u001b[39m \u001b[38;5;28;01mNone\u001b[39;00m:\n\u001b[1;32m-> 5635\u001b[0m     \u001b[38;5;28;01mreturn\u001b[39;00m \u001b[38;5;28msuper\u001b[39m()\u001b[38;5;241m.\u001b[39mfillna(\n\u001b[0;32m   5636\u001b[0m         value\u001b[38;5;241m=\u001b[39mvalue,\n\u001b[0;32m   5637\u001b[0m         method\u001b[38;5;241m=\u001b[39mmethod,\n\u001b[0;32m   5638\u001b[0m         axis\u001b[38;5;241m=\u001b[39maxis,\n\u001b[0;32m   5639\u001b[0m         inplace\u001b[38;5;241m=\u001b[39minplace,\n\u001b[0;32m   5640\u001b[0m         limit\u001b[38;5;241m=\u001b[39mlimit,\n\u001b[0;32m   5641\u001b[0m         downcast\u001b[38;5;241m=\u001b[39mdowncast,\n\u001b[0;32m   5642\u001b[0m     )\n",
      "File \u001b[1;32m~\\anaconda3\\Lib\\site-packages\\pandas\\core\\generic.py:6803\u001b[0m, in \u001b[0;36mNDFrame.fillna\u001b[1;34m(self, value, method, axis, inplace, limit, downcast)\u001b[0m\n\u001b[0;32m   6801\u001b[0m \u001b[38;5;28;01mif\u001b[39;00m axis \u001b[38;5;129;01mis\u001b[39;00m \u001b[38;5;28;01mNone\u001b[39;00m:\n\u001b[0;32m   6802\u001b[0m     axis \u001b[38;5;241m=\u001b[39m \u001b[38;5;241m0\u001b[39m\n\u001b[1;32m-> 6803\u001b[0m axis \u001b[38;5;241m=\u001b[39m \u001b[38;5;28mself\u001b[39m\u001b[38;5;241m.\u001b[39m_get_axis_number(axis)\n\u001b[0;32m   6805\u001b[0m \u001b[38;5;28;01mif\u001b[39;00m value \u001b[38;5;129;01mis\u001b[39;00m \u001b[38;5;28;01mNone\u001b[39;00m:\n\u001b[0;32m   6806\u001b[0m     \u001b[38;5;28;01mif\u001b[39;00m \u001b[38;5;129;01mnot\u001b[39;00m \u001b[38;5;28mself\u001b[39m\u001b[38;5;241m.\u001b[39m_mgr\u001b[38;5;241m.\u001b[39mis_single_block \u001b[38;5;129;01mand\u001b[39;00m axis \u001b[38;5;241m==\u001b[39m \u001b[38;5;241m1\u001b[39m:\n",
      "File \u001b[1;32m~\\anaconda3\\Lib\\site-packages\\pandas\\core\\generic.py:554\u001b[0m, in \u001b[0;36mNDFrame._get_axis_number\u001b[1;34m(cls, axis)\u001b[0m\n\u001b[0;32m    550\u001b[0m \u001b[38;5;129m@final\u001b[39m\n\u001b[0;32m    551\u001b[0m \u001b[38;5;129m@classmethod\u001b[39m\n\u001b[0;32m    552\u001b[0m \u001b[38;5;28;01mdef\u001b[39;00m \u001b[38;5;21m_get_axis_number\u001b[39m(\u001b[38;5;28mcls\u001b[39m, axis: Axis) \u001b[38;5;241m-\u001b[39m\u001b[38;5;241m>\u001b[39m \u001b[38;5;28mint\u001b[39m:\n\u001b[0;32m    553\u001b[0m     \u001b[38;5;28;01mtry\u001b[39;00m:\n\u001b[1;32m--> 554\u001b[0m         \u001b[38;5;28;01mreturn\u001b[39;00m \u001b[38;5;28mcls\u001b[39m\u001b[38;5;241m.\u001b[39m_AXIS_TO_AXIS_NUMBER[axis]\n\u001b[0;32m    555\u001b[0m     \u001b[38;5;28;01mexcept\u001b[39;00m \u001b[38;5;167;01mKeyError\u001b[39;00m:\n\u001b[0;32m    556\u001b[0m         \u001b[38;5;28;01mraise\u001b[39;00m \u001b[38;5;167;01mValueError\u001b[39;00m(\u001b[38;5;124mf\u001b[39m\u001b[38;5;124m\"\u001b[39m\u001b[38;5;124mNo axis named \u001b[39m\u001b[38;5;132;01m{\u001b[39;00maxis\u001b[38;5;132;01m}\u001b[39;00m\u001b[38;5;124m for object type \u001b[39m\u001b[38;5;132;01m{\u001b[39;00m\u001b[38;5;28mcls\u001b[39m\u001b[38;5;241m.\u001b[39m\u001b[38;5;18m__name__\u001b[39m\u001b[38;5;132;01m}\u001b[39;00m\u001b[38;5;124m\"\u001b[39m)\n",
      "\u001b[1;31mTypeError\u001b[0m: unhashable type: 'Series'"
     ]
    }
   ],
   "source": [
    "data = data.fillna(data[\"age\"].mean(), None, data[\"age\"])"
   ]
  },
  {
   "cell_type": "code",
   "execution_count": null,
   "id": "31fa0287",
   "metadata": {},
   "outputs": [],
   "source": [
    "data.info()"
   ]
  },
  {
   "cell_type": "code",
   "execution_count": 11,
   "id": "75e0a0a8",
   "metadata": {},
   "outputs": [
    {
     "data": {
      "text/plain": [
       "0      28.0\n",
       "1      31.0\n",
       "2      26.0\n",
       "3      31.0\n",
       "4      41.0\n",
       "       ... \n",
       "995    26.0\n",
       "996    34.0\n",
       "997    36.0\n",
       "998    30.0\n",
       "999    30.0\n",
       "Name: age, Length: 1000, dtype: float64"
      ]
     },
     "execution_count": 11,
     "metadata": {},
     "output_type": "execute_result"
    }
   ],
   "source": [
    "data.dropna()"
   ]
  }
 ],
 "metadata": {
  "kernelspec": {
   "display_name": "Python 3 (ipykernel)",
   "language": "python",
   "name": "python3"
  },
  "language_info": {
   "codemirror_mode": {
    "name": "ipython",
    "version": 3
   },
   "file_extension": ".py",
   "mimetype": "text/x-python",
   "name": "python",
   "nbconvert_exporter": "python",
   "pygments_lexer": "ipython3",
   "version": "3.11.4"
  }
 },
 "nbformat": 4,
 "nbformat_minor": 5
}
