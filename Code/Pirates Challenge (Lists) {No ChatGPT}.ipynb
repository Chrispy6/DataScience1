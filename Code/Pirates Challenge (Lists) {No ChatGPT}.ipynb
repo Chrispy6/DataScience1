{
 "cells": [
  {
   "cell_type": "code",
   "execution_count": 1,
   "id": "b21da947",
   "metadata": {},
   "outputs": [],
   "source": [
    "pirateNames = [\"Blackbeard\", \"Anne Bonny\", \"Calico Jack\", \"Cheung Po Tsai\", \"Grace O'Malley\", \"Mary Read\", \"Sayyida al Hurra\", \"Ching Shih\", \"Sir  Francis Drake\", \"Jean Lafitte\"];"
   ]
  },
  {
   "cell_type": "code",
   "execution_count": 2,
   "id": "3c3d1490",
   "metadata": {},
   "outputs": [],
   "source": [
    "pirateSex = [\"Male\", \"Female\", \"Male\", \"Male\", \"Female\", \"Female\", \"Female\", \"Female\", \"Male\", \"Male\"];"
   ]
  },
  {
   "cell_type": "code",
   "execution_count": 3,
   "id": "8922ae6e",
   "metadata": {},
   "outputs": [],
   "source": [
    "ageAtDeath = [40, 24, 37, 39, 73, 36, 75, 69, 56, 46];"
   ]
  },
  {
   "cell_type": "code",
   "execution_count": 4,
   "id": "cfa5dd33",
   "metadata": {},
   "outputs": [],
   "source": [
    "heightInFeet = [6.4, 5.6, 5.6, 5.3, 5.0, 5.1, \"unknown\", 5.3, 5.5, 6.6];"
   ]
  },
  {
   "cell_type": "code",
   "execution_count": 5,
   "id": "df31f736",
   "metadata": {},
   "outputs": [],
   "source": [
    "skullAndCrossBones = [False, True, True, False, False, True, False, False, False, False];"
   ]
  },
  {
   "cell_type": "code",
   "execution_count": 6,
   "id": "612de8e8",
   "metadata": {},
   "outputs": [
    {
     "name": "stdout",
     "output_type": "stream",
     "text": [
      "Blackbeard\n",
      "Male\n",
      "40\n",
      "False\n",
      "\n",
      "False\n",
      "False\n",
      "False\n",
      "False\n",
      "True\n",
      "False\n",
      "False\n",
      "True\n",
      "True\n",
      "False\n",
      "\n",
      "Blackbeard\n",
      "40\n",
      "False\n",
      "Anne Bonny\n",
      "24\n",
      "True\n",
      "Calico Jack\n",
      "37\n",
      "True\n",
      "Cheung Po Tsai\n",
      "39\n",
      "False\n",
      "Grace O'Malley\n",
      "73\n",
      "False\n",
      "Mary Read\n",
      "36\n",
      "True\n",
      "Sayyida al Hurra\n",
      "75\n",
      "False\n",
      "Ching Shih\n",
      "69\n",
      "False\n",
      "Sir  Francis Drake\n",
      "56\n",
      "False\n",
      "Jean Lafitte\n",
      "46\n",
      "False\n"
     ]
    }
   ],
   "source": [
    "print(pirateNames[0]);\n",
    "print(pirateSex[0]);\n",
    "print(ageAtDeath[0]);\n",
    "print(skullAndCrossBones[0]);\n",
    "print(\"\");\n",
    "i = 9\n",
    "while(i>=0):\n",
    "    print(skullAndCrossBones[i]);\n",
    "    i -= 1\n",
    "print(\"\");\n",
    "x = 0\n",
    "while(x<=9):\n",
    "    print(pirateNames[x]);\n",
    "    print(ageAtDeath[x]);\n",
    "    print(skullAndCrossBones[x]);\n",
    "    x += 1;\n"
   ]
  },
  {
   "cell_type": "code",
   "execution_count": null,
   "id": "34e25bec",
   "metadata": {},
   "outputs": [],
   "source": []
  },
  {
   "cell_type": "code",
   "execution_count": null,
   "id": "88a9fdc0",
   "metadata": {},
   "outputs": [],
   "source": []
  },
  {
   "cell_type": "code",
   "execution_count": null,
   "id": "d43ba479",
   "metadata": {},
   "outputs": [],
   "source": []
  }
 ],
 "metadata": {
  "kernelspec": {
   "display_name": "Python 3 (ipykernel)",
   "language": "python",
   "name": "python3"
  },
  "language_info": {
   "codemirror_mode": {
    "name": "ipython",
    "version": 3
   },
   "file_extension": ".py",
   "mimetype": "text/x-python",
   "name": "python",
   "nbconvert_exporter": "python",
   "pygments_lexer": "ipython3",
   "version": "3.11.4"
  }
 },
 "nbformat": 4,
 "nbformat_minor": 5
}
