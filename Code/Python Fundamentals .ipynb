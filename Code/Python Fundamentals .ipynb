{
 "cells": [
  {
   "cell_type": "code",
   "execution_count": 14,
   "id": "6c503333",
   "metadata": {},
   "outputs": [],
   "source": [
    "pirates = {\n",
    "    \"Pirate\":[\"Blackbeard\", \"Anne Bonny\", \"Calico Jack\", \"Cheung Po Tsai\", \"Grace O'Malley\", \"Mary Read\", \"Sayyida al Hurra\", \"Ching Shih\", \"Sir Francis Drake\", \"Jean Lafittte\"],\n",
    "    \"Sex\":[\"M\", \"F\", \"M\", \"M\", \"F\", \"F\", \"F\", \"F\", \"M\", \"M\"],\n",
    "    \"Age at Death\":[40, 24, 37, 39, 73, 36, 75, 69, 56, 46],\n",
    "    \"Height\":[6.4, 5.6, 5.6, 5.3, 5.0, 5.1, 0.0, 5.3, 5.5, 6.2],\n",
    "    \"Skull and Crossbones\":[False, True, True, False, False, True, False, False, False, False]\n",
    "}"
   ]
  },
  {
   "cell_type": "code",
   "execution_count": 15,
   "id": "6a8d13cc",
   "metadata": {},
   "outputs": [
    {
     "name": "stdout",
     "output_type": "stream",
     "text": [
      "Blackbeard\n",
      "M\n",
      "40\n",
      "6.4\n",
      "False\n"
     ]
    }
   ],
   "source": [
    "print(pirates[\"Pirate\"][0])\n",
    "print(pirates[\"Sex\"][0])\n",
    "print(pirates[\"Age at Death\"][0])\n",
    "print(pirates[\"Height\"][0])\n",
    "print(pirates[\"Skull and Crossbones\"][0])"
   ]
  },
  {
   "cell_type": "code",
   "execution_count": 18,
   "id": "c480529e",
   "metadata": {},
   "outputs": [
    {
     "name": "stdout",
     "output_type": "stream",
     "text": [
      "False\n",
      "False\n",
      "False\n",
      "False\n",
      "True\n",
      "False\n",
      "False\n",
      "True\n",
      "True\n",
      "False\n"
     ]
    }
   ],
   "source": [
    "for i in range(9, -1, -1):\n",
    "    print(pirates[\"Skull and Crossbones\"][i]);"
   ]
  },
  {
   "cell_type": "code",
   "execution_count": 19,
   "id": "c88290e4",
   "metadata": {},
   "outputs": [
    {
     "name": "stdout",
     "output_type": "stream",
     "text": [
      "Blackbeard 40 False\n",
      "Anne Bonny 24 True\n",
      "Calico Jack 37 True\n",
      "Cheung Po Tsai 39 False\n",
      "Grace O'Malley 73 False\n",
      "Mary Read 36 True\n",
      "Sayyida al Hurra 75 False\n",
      "Ching Shih 69 False\n",
      "Sir Francis Drake 56 False\n",
      "Jean Lafittte 46 False\n"
     ]
    }
   ],
   "source": [
    "for i in range(0,10):\n",
    "    print(pirates[\"Pirate\"][i], pirates[\"Age at Death\"][i], pirates[\"Skull and Crossbones\"][i]);"
   ]
  },
  {
   "cell_type": "code",
   "execution_count": 25,
   "id": "1e2fda60",
   "metadata": {},
   "outputs": [
    {
     "name": "stdout",
     "output_type": "stream",
     "text": [
      "Female Pirates live longer\n"
     ]
    }
   ],
   "source": [
    "totalMale = 0\n",
    "totalFemale = 0\n",
    "femaleCount = 0\n",
    "maleCount = 0\n",
    "for i in range(0,10):\n",
    "    if pirates[\"Sex\"][i] == \"M\":\n",
    "        maleCount+=1\n",
    "        totalMale += pirates[\"Age at Death\"][i]\n",
    "    else:\n",
    "        femaleCount+=1\n",
    "        totalFemale += pirates[\"Age at Death\"][i]\n",
    "maleAverage = totalMale/maleCount\n",
    "femaleAverage = totalFemale/femaleCount\n",
    "if maleAverage>femaleAverage:\n",
    "    print(\"Male Pirates live longer\");\n",
    "else:\n",
    "    print(\"Female Pirates live longer\");"
   ]
  },
  {
   "cell_type": "code",
   "execution_count": 32,
   "id": "80b4ccb7",
   "metadata": {},
   "outputs": [
    {
     "name": "stdout",
     "output_type": "stream",
     "text": [
      "20.0\n"
     ]
    }
   ],
   "source": [
    "sixFootPirates = 0\n",
    "for i in range(0,10):\n",
    "    if pirates[\"Height\"][i] >= 6.0:\n",
    "        sixFootPirates += 1\n",
    "percent = sixFootPirates/10 * 100\n",
    "print(percent);"
   ]
  }
 ],
 "metadata": {
  "kernelspec": {
   "display_name": "Python 3 (ipykernel)",
   "language": "python",
   "name": "python3"
  },
  "language_info": {
   "codemirror_mode": {
    "name": "ipython",
    "version": 3
   },
   "file_extension": ".py",
   "mimetype": "text/x-python",
   "name": "python",
   "nbconvert_exporter": "python",
   "pygments_lexer": "ipython3",
   "version": "3.11.4"
  }
 },
 "nbformat": 4,
 "nbformat_minor": 5
}
